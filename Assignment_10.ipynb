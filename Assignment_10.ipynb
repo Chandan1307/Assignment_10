{
 "cells": [
  {
   "cell_type": "markdown",
   "id": "562deab7-1d7c-4afb-85fe-36a112d06c1c",
   "metadata": {},
   "source": [
    "Q1, Create a vehicle class with an init method having instance variables as name_of_vehicle, max_speed\n",
    "and average_of_vehicle."
   ]
  },
  {
   "cell_type": "code",
   "execution_count": 6,
   "id": "74e22f0b-abe4-4db9-beb5-0c9f67b12594",
   "metadata": {},
   "outputs": [],
   "source": [
    "class Vehicle:\n",
    "    def __init__(self, name_of_vehicle, max_speed, average_of_vehicle):\n",
    "        self.name_of_vehicle = name_of_vehicle\n",
    "        self.max_speed = max_speed\n",
    "        self.average_of_vehicle = average_of_vehicle\n",
    "    \n",
    "    def vehicle_details(self):\n",
    "        return self.name_of_vehicle, self.max_speed, self.average_of_vehicle"
   ]
  },
  {
   "cell_type": "code",
   "execution_count": 23,
   "id": "c47f9463-27ee-432e-9f1a-f18d4a8eaf41",
   "metadata": {},
   "outputs": [],
   "source": [
    "chandan = Vehicle('BMW', 150, 40)"
   ]
  },
  {
   "cell_type": "code",
   "execution_count": 24,
   "id": "3d43ab8a-4193-4880-a688-4d68118c637c",
   "metadata": {},
   "outputs": [
    {
     "data": {
      "text/plain": [
       "'BMW'"
      ]
     },
     "execution_count": 24,
     "metadata": {},
     "output_type": "execute_result"
    }
   ],
   "source": [
    "chandan.name_of_vehicle"
   ]
  },
  {
   "cell_type": "code",
   "execution_count": 25,
   "id": "e109b05a-524c-45cc-a145-015df2c30d12",
   "metadata": {},
   "outputs": [
    {
     "data": {
      "text/plain": [
       "150"
      ]
     },
     "execution_count": 25,
     "metadata": {},
     "output_type": "execute_result"
    }
   ],
   "source": [
    "chandan.max_speed"
   ]
  },
  {
   "cell_type": "code",
   "execution_count": 18,
   "id": "708832b7-f716-4c22-9b2a-d684059b6896",
   "metadata": {},
   "outputs": [
    {
     "data": {
      "text/plain": [
       "40"
      ]
     },
     "execution_count": 18,
     "metadata": {},
     "output_type": "execute_result"
    }
   ],
   "source": [
    "chandan.average_of_vehicle"
   ]
  },
  {
   "cell_type": "markdown",
   "id": "264a2190-69c2-4b21-9ffd-1e580bd998f1",
   "metadata": {},
   "source": [
    "Q2. Create a child class car from the vehicle class created in Que 1, which will inherit the vehicle class.\n",
    "Create a method named seating_capacity which takes capacity as an argument and returns the name of\n",
    "the vehicle and its seating capacity."
   ]
  },
  {
   "cell_type": "code",
   "execution_count": 54,
   "id": "8daa2149-0f95-4da0-8f4e-e8be5362e579",
   "metadata": {},
   "outputs": [],
   "source": [
    "class Car(Vehicle):\n",
    "    def __init__(self, make, model, weight, fuel_capacity, seating_capacity):\n",
    "        self.make = make\n",
    "        self.model = model\n",
    "        self.weight = weight\n",
    "        self.fuel_capacity = fuel_capacity\n",
    "        self.seating_capacity = seating_capacity\n",
    "    \n",
    "    def seating_capacity(self):\n",
    "        return self.make, self.model, self.weight, self.fuel_capacity, self.seating_capacity"
   ]
  },
  {
   "cell_type": "code",
   "execution_count": 55,
   "id": "8942b7d9-5445-475d-bc35-44667e03af33",
   "metadata": {},
   "outputs": [],
   "source": [
    "obj_car = Car('india', 'New', '500kg', '80liter', 6)"
   ]
  },
  {
   "cell_type": "code",
   "execution_count": 56,
   "id": "97002bb8-4a90-4d51-bbd9-f2ba46b0cfb3",
   "metadata": {},
   "outputs": [
    {
     "data": {
      "text/plain": [
       "'india'"
      ]
     },
     "execution_count": 56,
     "metadata": {},
     "output_type": "execute_result"
    }
   ],
   "source": [
    "obj_car.make"
   ]
  },
  {
   "cell_type": "code",
   "execution_count": 57,
   "id": "9cda8c2d-39e9-4fb1-a940-cbc7955036f1",
   "metadata": {},
   "outputs": [
    {
     "data": {
      "text/plain": [
       "'New'"
      ]
     },
     "execution_count": 57,
     "metadata": {},
     "output_type": "execute_result"
    }
   ],
   "source": [
    "obj_car.model"
   ]
  },
  {
   "cell_type": "code",
   "execution_count": 58,
   "id": "2a533269-e9c1-4522-9687-10b2c4a2b50b",
   "metadata": {},
   "outputs": [
    {
     "data": {
      "text/plain": [
       "'500kg'"
      ]
     },
     "execution_count": 58,
     "metadata": {},
     "output_type": "execute_result"
    }
   ],
   "source": [
    "obj_car.weight"
   ]
  },
  {
   "cell_type": "code",
   "execution_count": 59,
   "id": "1a014b57-bc1d-490e-b5be-41bc408398c5",
   "metadata": {},
   "outputs": [
    {
     "data": {
      "text/plain": [
       "'80liter'"
      ]
     },
     "execution_count": 59,
     "metadata": {},
     "output_type": "execute_result"
    }
   ],
   "source": [
    "obj_car.fuel_capacity"
   ]
  },
  {
   "cell_type": "code",
   "execution_count": 60,
   "id": "0d3e2e04-93f5-4518-b9b3-a4b72884ed4e",
   "metadata": {},
   "outputs": [
    {
     "data": {
      "text/plain": [
       "6"
      ]
     },
     "execution_count": 60,
     "metadata": {},
     "output_type": "execute_result"
    }
   ],
   "source": [
    "obj_car.seating_capacity"
   ]
  },
  {
   "cell_type": "markdown",
   "id": "3cc7b3a4-230b-4a79-84fd-f6a226bd86bf",
   "metadata": {},
   "source": [
    "Q3. What is multiple inheritance? Write a python code to demonstrate multiple inheritance."
   ]
  },
  {
   "cell_type": "markdown",
   "id": "afa1fb29-7de2-440d-84e9-d7c06e87617f",
   "metadata": {},
   "source": [
    "Multiple inheritance is a feature in object-oriented programming languages that allows a class to inherit characteristics and behavior from more than one parent class. This means that a single class can inherit attributes and methods from multiple classes, making it a subclass of all of them."
   ]
  },
  {
   "cell_type": "code",
   "execution_count": 29,
   "id": "d73ba251-7efa-48ca-a3d1-6b3f508fa2fc",
   "metadata": {},
   "outputs": [
    {
     "name": "stdout",
     "output_type": "stream",
     "text": [
      "Parent 1 Method\n",
      "Parent 2 Method\n"
     ]
    }
   ],
   "source": [
    "class Parent1:\n",
    "    def method1(self):\n",
    "        print(\"Parent 1 Method\")\n",
    "\n",
    "class Parent2:\n",
    "    def method2(self):\n",
    "        print(\"Parent 2 Method\")\n",
    "\n",
    "class Child(Parent1, Parent2):\n",
    "    pass\n",
    "\n",
    "c = Child()\n",
    "c.method1() # outputs: \"Parent 1 Method\"\n",
    "c.method2() # outputs: \"Parent 2 Method\""
   ]
  },
  {
   "cell_type": "markdown",
   "id": "ca0247b5-b377-4540-8d3d-d7c29a44c56a",
   "metadata": {},
   "source": [
    "Q4. What are getter and setter in python? Create a class and create a getter and a setter method in this\n",
    "class."
   ]
  },
  {
   "cell_type": "markdown",
   "id": "8f35736a-8e2a-46b6-bf10-f18369496b3a",
   "metadata": {},
   "source": [
    "Getters and setters are methods in object-oriented programming that are used to access and modify the values of an object's attributes. In Python, getters and setters are used to control access to an object's attributes, allowing for the implementation of encapsulation, which is a principle of object-oriented programming that promotes the hiding of implementation details from the user."
   ]
  },
  {
   "cell_type": "code",
   "execution_count": 30,
   "id": "1409f14a-2b32-46b0-9497-8da48738d3be",
   "metadata": {},
   "outputs": [],
   "source": [
    "class example:\n",
    "    def __init__(self, value):\n",
    "        self.value = value\n",
    "    def get_value(self):\n",
    "        return self.value\n",
    "    def set_value(self, value):\n",
    "        if value < 0:\n",
    "            raise ValueError(\"value cannot be negative\")\n",
    "        self.value\n",
    "        "
   ]
  },
  {
   "cell_type": "code",
   "execution_count": 37,
   "id": "9612d286-f34c-4f13-8d1f-ce12193cfbbc",
   "metadata": {},
   "outputs": [],
   "source": [
    "v = example(10)"
   ]
  },
  {
   "cell_type": "code",
   "execution_count": 38,
   "id": "7800110c-d7df-42bc-bb21-0a9321fc5f80",
   "metadata": {},
   "outputs": [
    {
     "data": {
      "text/plain": [
       "10"
      ]
     },
     "execution_count": 38,
     "metadata": {},
     "output_type": "execute_result"
    }
   ],
   "source": [
    "v.value"
   ]
  },
  {
   "cell_type": "code",
   "execution_count": 43,
   "id": "37672405-e41c-4595-afc3-b64fd6864463",
   "metadata": {},
   "outputs": [],
   "source": [
    "v.value = 20"
   ]
  },
  {
   "cell_type": "code",
   "execution_count": 45,
   "id": "c0dc96df-d4ec-41ca-8ee8-6648b1e20dba",
   "metadata": {},
   "outputs": [
    {
     "data": {
      "text/plain": [
       "20"
      ]
     },
     "execution_count": 45,
     "metadata": {},
     "output_type": "execute_result"
    }
   ],
   "source": [
    "v.value"
   ]
  },
  {
   "cell_type": "code",
   "execution_count": 46,
   "id": "ad596d00-2b9c-40d9-8399-b4ab3d59641c",
   "metadata": {},
   "outputs": [],
   "source": [
    "v.value = -10"
   ]
  },
  {
   "cell_type": "code",
   "execution_count": 47,
   "id": "1ada3579-b9e8-4ae4-b3ef-ec89d8faa8d7",
   "metadata": {},
   "outputs": [
    {
     "data": {
      "text/plain": [
       "-10"
      ]
     },
     "execution_count": 47,
     "metadata": {},
     "output_type": "execute_result"
    }
   ],
   "source": [
    "v.value"
   ]
  },
  {
   "cell_type": "code",
   "execution_count": 44,
   "id": "d0ea92fd-7483-4429-821a-c453b2c05187",
   "metadata": {},
   "outputs": [
    {
     "data": {
      "text/plain": [
       "<bound method example.get_value of <__main__.example object at 0x7fc158b8ac50>>"
      ]
     },
     "execution_count": 44,
     "metadata": {},
     "output_type": "execute_result"
    }
   ],
   "source": [
    "v.get_value"
   ]
  },
  {
   "cell_type": "code",
   "execution_count": 48,
   "id": "991018f0-2f89-41f8-a72f-ac9ff7f71ac9",
   "metadata": {},
   "outputs": [
    {
     "data": {
      "text/plain": [
       "<bound method example.set_value of <__main__.example object at 0x7fc158b8ac50>>"
      ]
     },
     "execution_count": 48,
     "metadata": {},
     "output_type": "execute_result"
    }
   ],
   "source": [
    "v.set_value"
   ]
  },
  {
   "cell_type": "markdown",
   "id": "4e7f0362-0905-4a79-bf44-1d71d526757e",
   "metadata": {},
   "source": [
    "Q5.What is method overriding in python? Write a python code to demonstrate method overriding."
   ]
  },
  {
   "cell_type": "markdown",
   "id": "c531f57b-c0e6-4e44-a143-0399b07711ca",
   "metadata": {},
   "source": [
    "Method overriding in Python is a feature in object-oriented programming that allows a subclass to provide a new implementation for a method that is already defined in its parent class. This allows the subclass to inherit the method from its parent class, but to change its behavior as needed."
   ]
  },
  {
   "cell_type": "code",
   "execution_count": null,
   "id": "195204fc-10c7-4b20-80a2-1bb16dc92690",
   "metadata": {},
   "outputs": [],
   "source": [
    "class Parent:\n",
    "    def method(self):\n",
    "        print(\"Parent Method\")\n",
    "\n",
    "class Child(Parent):\n",
    "    def method(self):\n",
    "        print(\"Child Method\")\n",
    "\n",
    "p = Parent()\n",
    "p.method() # outputs: \"Parent Method\"\n",
    "\n",
    "c = Child()\n",
    "c.method() # outputs: \"Child Method\"\n"
   ]
  },
  {
   "cell_type": "code",
   "execution_count": 49,
   "id": "70cfb816-2aeb-4c74-a653-73af85ac17d0",
   "metadata": {},
   "outputs": [],
   "source": [
    "class Parent:\n",
    "    def method(self):\n",
    "        print(\"Parent Method\")\n",
    "        \n",
    "class Child(Parent):\n",
    "    def method(self):\n",
    "        print(\"Child Method\")"
   ]
  },
  {
   "cell_type": "code",
   "execution_count": 50,
   "id": "20d9055f-38af-4bc7-8d09-844466d7ee70",
   "metadata": {},
   "outputs": [],
   "source": [
    "p = Parent()"
   ]
  },
  {
   "cell_type": "code",
   "execution_count": 51,
   "id": "808f08fe-2991-4671-bd77-b543edd1d461",
   "metadata": {},
   "outputs": [
    {
     "data": {
      "text/plain": [
       "<bound method Parent.method of <__main__.Parent object at 0x7fc158b8aa70>>"
      ]
     },
     "execution_count": 51,
     "metadata": {},
     "output_type": "execute_result"
    }
   ],
   "source": [
    "p.method"
   ]
  },
  {
   "cell_type": "code",
   "execution_count": 52,
   "id": "2401dc52-6a8f-428d-8117-be5989e34cef",
   "metadata": {},
   "outputs": [],
   "source": [
    "c = Child()"
   ]
  },
  {
   "cell_type": "code",
   "execution_count": 53,
   "id": "77a82cf5-ebe5-428d-beca-ea1ab3efbc68",
   "metadata": {},
   "outputs": [
    {
     "data": {
      "text/plain": [
       "<bound method Child.method of <__main__.Child object at 0x7fc158b8aec0>>"
      ]
     },
     "execution_count": 53,
     "metadata": {},
     "output_type": "execute_result"
    }
   ],
   "source": [
    "c.method"
   ]
  }
 ],
 "metadata": {
  "kernelspec": {
   "display_name": "Python 3 (ipykernel)",
   "language": "python",
   "name": "python3"
  },
  "language_info": {
   "codemirror_mode": {
    "name": "ipython",
    "version": 3
   },
   "file_extension": ".py",
   "mimetype": "text/x-python",
   "name": "python",
   "nbconvert_exporter": "python",
   "pygments_lexer": "ipython3",
   "version": "3.10.8"
  }
 },
 "nbformat": 4,
 "nbformat_minor": 5
}
